{
 "cells": [
  {
   "cell_type": "markdown",
   "metadata": {},
   "source": [
    "# Interactive visualization of a robot in pydrake"
   ]
  },
  {
   "cell_type": "markdown",
   "metadata": {},
   "source": [
    "*Copyright (c) 2018, Toyota Research Institute\n",
    "All rights reserved.*\n",
    "\n",
    "See license in `LICENSE`."
   ]
  },
  {
   "cell_type": "markdown",
   "metadata": {},
   "source": [
    "## Introduction\n",
    "This notebook shows how to use Drake and [ipywidgets](https://github.com/jupyter-widgets/ipywidgets) to create an interactive visualization of a robot."
   ]
  },
  {
   "cell_type": "code",
   "execution_count": null,
   "metadata": {},
   "outputs": [],
   "source": [
    "import os.path\n",
    "from pydrake.common import FindResourceOrThrow\n",
    "from pydrake.multibody.rigid_body_tree import (\n",
    "    AddModelInstanceFromUrdfStringSearchingInRosPackages,\n",
    "    FloatingBaseType,\n",
    "    RigidBodyTree,\n",
    ")\n",
    "from pydrake.lcm import DrakeLcm\n",
    "from pydrake.systems.framework import BasicVector\n",
    "from pydrake.multibody.rigid_body_plant import DrakeVisualizer\n",
    "import numpy as np\n",
    "import ipywidgets as widgets"
   ]
  },
  {
   "cell_type": "markdown",
   "metadata": {},
   "source": [
    "## Convenience class for interactive visualization\n",
    "The following class wraps a `DrakeVisualizer` system and connects it to Jupyter widgets."
   ]
  },
  {
   "cell_type": "code",
   "execution_count": null,
   "metadata": {},
   "outputs": [],
   "source": [
    "class DrakeVisualizerHelper:\n",
    "    def __init__(self, tree):\n",
    "        lcm = DrakeLcm()\n",
    "        self.tree = tree\n",
    "        self.visualizer = DrakeVisualizer(tree=self.tree, lcm=lcm, enable_playback=True)\n",
    "        self.x = np.concatenate([robot.getZeroConfiguration(), \n",
    "                                 np.zeros(tree.get_num_velocities())])\n",
    "        self.visualizer.PublishLoadRobot()\n",
    "        self.draw(self.tree.getZeroConfiguration())\n",
    "    def draw(self, q = None):\n",
    "        if q is not None:\n",
    "            self.x[:self.tree.get_num_positions()] = q\n",
    "        context = self.visualizer.CreateDefaultContext()\n",
    "        context.FixInputPort(0, BasicVector(self.x))\n",
    "        self.visualizer.Publish(context)\n",
    "        \n",
    "    def inspect(self, slider_scaling = 1):\n",
    "        # Setup widgets\n",
    "        for i in range(robot.number_of_positions()):\n",
    "            widgets.interact(\n",
    "                self.__slider_callback,\n",
    "                slider_value = widgets.FloatSlider(\n",
    "                    value=slider_scaling * self.x[i],\n",
    "                    min=slider_scaling * self.tree.joint_limit_min[i],\n",
    "                    max=slider_scaling * self.tree.joint_limit_max[i],\n",
    "                    description=self.tree.get_position_name(i)\n",
    "                ),\n",
    "                index=widgets.fixed(i),\n",
    "                slider_scaling=widgets.fixed(slider_scaling)\n",
    "            )\n",
    "\n",
    "    def __slider_callback(self, slider_value, index, slider_scaling):\n",
    "        self.x[index] = slider_value / slider_scaling\n",
    "        self.draw()"
   ]
  },
  {
   "cell_type": "markdown",
   "metadata": {},
   "source": [
    "## Demo"
   ]
  },
  {
   "cell_type": "markdown",
   "metadata": {},
   "source": [
    "Instantiate a model of the IIWA robot arm along with a visualization helper."
   ]
  },
  {
   "cell_type": "code",
   "execution_count": null,
   "metadata": {},
   "outputs": [],
   "source": [
    "iiwa_file = FindResourceOrThrow(\"drake/manipulation/models/iiwa_description/urdf/iiwa14_spheres_collision.urdf\")\n",
    "robot = RigidBodyTree(iiwa_file, FloatingBaseType.kFixed)\n",
    "#add_fixed_model(robot, iiwa_file)\n",
    "vis_helper = DrakeVisualizerHelper(robot)"
   ]
  },
  {
   "cell_type": "markdown",
   "metadata": {},
   "source": [
    "Draw the arm in a random configuration."
   ]
  },
  {
   "cell_type": "code",
   "execution_count": null,
   "metadata": {},
   "outputs": [],
   "source": [
    "q = robot.getRandomConfiguration()\n",
    "vis_helper.draw(q)"
   ]
  },
  {
   "cell_type": "markdown",
   "metadata": {},
   "source": [
    "Show the interactive sliders (with positions scaled to be in degrees)."
   ]
  },
  {
   "cell_type": "code",
   "execution_count": null,
   "metadata": {},
   "outputs": [],
   "source": [
    "vis_helper.inspect(np.rad2deg(1))"
   ]
  }
 ],
 "metadata": {
  "kernelspec": {
   "display_name": "Python 2",
   "language": "python",
   "name": "python2"
  },
  "language_info": {
   "codemirror_mode": {
    "name": "ipython",
    "version": 2
   },
   "file_extension": ".py",
   "mimetype": "text/x-python",
   "name": "python",
   "nbconvert_exporter": "python",
   "pygments_lexer": "ipython2",
   "version": "2.7.14"
  }
 },
 "nbformat": 4,
 "nbformat_minor": 2
}
