{
 "cells": [
  {
   "cell_type": "markdown",
   "metadata": {},
   "source": [
    "# Passive simulation of a robot in pydrake"
   ]
  },
  {
   "cell_type": "markdown",
   "metadata": {},
   "source": [
    "*Copyright (c) 2018, Toyota Research Institute\n",
    "All rights reserved.*\n",
    "\n",
    "See license in `LICENSE`"
   ]
  },
  {
   "cell_type": "markdown",
   "metadata": {},
   "source": [
    "## Introduction\n",
    "This notebook shows how to create and run a simulation of a robot using Drake's systems framework.\n",
    "Please see the README for prerequisites."
   ]
  },
  {
   "cell_type": "code",
   "execution_count": null,
   "metadata": {},
   "outputs": [],
   "source": [
    "import os.path\n",
    "from pydrake.multibody.parsers import PackageMap\n",
    "from pydrake.common import FindResourceOrThrow\n",
    "from pydrake.multibody.rigid_body_tree import (\n",
    "    AddModelInstanceFromUrdfStringSearchingInRosPackages,\n",
    "    FloatingBaseType,\n",
    "    RigidBodyFrame,\n",
    "    RigidBodyTree,\n",
    ")\n",
    "from pydrake.lcm import DrakeLcm\n",
    "from pydrake.systems.framework import BasicVector, DiagramBuilder\n",
    "from pydrake.systems.analysis import Simulator\n",
    "from pydrake.systems.primitives import ConstantVectorSource\n",
    "from pydrake.multibody.rigid_body_plant import (\n",
    "    DrakeVisualizer,\n",
    "    RigidBodyPlant\n",
    ")\n",
    "import numpy as np\n",
    "import ipywidgets as widgets"
   ]
  },
  {
   "cell_type": "markdown",
   "metadata": {},
   "source": [
    "## Demo"
   ]
  },
  {
   "cell_type": "markdown",
   "metadata": {},
   "source": [
    "Build a diagram containing a `RigidBodyPlant` and a `DrakeVisualizer`."
   ]
  },
  {
   "cell_type": "code",
   "execution_count": null,
   "metadata": {},
   "outputs": [],
   "source": [
    "iiwa_file = FindResourceOrThrow(\"drake/manipulation/models/iiwa_description/urdf/iiwa14_spheres_collision.urdf\")\n",
    "\n",
    "builder = DiagramBuilder()\n",
    "\n",
    "# Add the sub-systems\n",
    "plant = builder.AddSystem(\n",
    "    RigidBodyPlant(tree=RigidBodyTree(iiwa_file, FloatingBaseType.kFixed),\n",
    "                   timestep=1e-3))\n",
    "zero_torque_source = builder.AddSystem(ConstantVectorSource(np.zeros(plant.get_num_actuators())))\n",
    "visualizer = builder.AddSystem(\n",
    "    DrakeVisualizer(tree=plant.get_rigid_body_tree(), \n",
    "                    lcm=DrakeLcm(), \n",
    "                    enable_playback=True))\n",
    "\n",
    "# Connect the sub-systems\n",
    "# Torque source -> plant\n",
    "builder.Connect(zero_torque_source.get_output_port(0), plant.get_input_port(0))\n",
    "# Plant -> visualizer\n",
    "builder.Connect(plant.get_output_port(0), visualizer.get_input_port(0))\n",
    "\n",
    "# Build the diagram.\n",
    "diagram = builder.Build()"
   ]
  },
  {
   "cell_type": "markdown",
   "metadata": {},
   "source": [
    "Create a simulator for the diagram."
   ]
  },
  {
   "cell_type": "code",
   "execution_count": null,
   "metadata": {},
   "outputs": [],
   "source": [
    "simulator = Simulator(diagram)\n",
    "simulator.Initialize()"
   ]
  },
  {
   "cell_type": "markdown",
   "metadata": {},
   "source": [
    "Simulate for 10 seconds (as quickly as possible)."
   ]
  },
  {
   "cell_type": "code",
   "execution_count": null,
   "metadata": {},
   "outputs": [],
   "source": [
    "simulator.StepTo(10)"
   ]
  },
  {
   "cell_type": "markdown",
   "metadata": {},
   "source": [
    "Replay the simulation results at 1x real time."
   ]
  },
  {
   "cell_type": "code",
   "execution_count": null,
   "metadata": {},
   "outputs": [],
   "source": [
    "visualizer.ReplayCachedSimulation()"
   ]
  }
 ],
 "metadata": {
  "kernelspec": {
   "display_name": "Python 2",
   "language": "python",
   "name": "python2"
  },
  "language_info": {
   "codemirror_mode": {
    "name": "ipython",
    "version": 2
   },
   "file_extension": ".py",
   "mimetype": "text/x-python",
   "name": "python",
   "nbconvert_exporter": "python",
   "pygments_lexer": "ipython2",
   "version": "2.7.14"
  }
 },
 "nbformat": 4,
 "nbformat_minor": 2
}
